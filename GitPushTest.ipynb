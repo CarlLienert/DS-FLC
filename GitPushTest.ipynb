{
 "cells": [
  {
   "cell_type": "markdown",
   "id": "1e019547-7296-469d-a5a0-5b347d2e8bb7",
   "metadata": {},
   "source": [
    "Can I push this notebook to my github repo?\n"
   ]
  },
  {
   "cell_type": "code",
   "execution_count": 1,
   "id": "6949c47e-9cef-4cdd-b1e4-906ae0f0e905",
   "metadata": {},
   "outputs": [
    {
     "data": {
      "text/plain": [
       "7"
      ]
     },
     "execution_count": 1,
     "metadata": {},
     "output_type": "execute_result"
    }
   ],
   "source": [
    "3+4"
   ]
  },
  {
   "cell_type": "code",
   "execution_count": null,
   "id": "0ce91a77-2bff-4199-a2a1-2505048c559f",
   "metadata": {},
   "outputs": [],
   "source": []
  }
 ],
 "metadata": {
  "kernelspec": {
   "display_name": "Python 3",
   "language": "python",
   "name": "python3"
  },
  "language_info": {
   "codemirror_mode": {
    "name": "ipython",
    "version": 3
   },
   "file_extension": ".py",
   "mimetype": "text/x-python",
   "name": "python",
   "nbconvert_exporter": "python",
   "pygments_lexer": "ipython3",
   "version": "3.8.8"
  }
 },
 "nbformat": 4,
 "nbformat_minor": 5
}
