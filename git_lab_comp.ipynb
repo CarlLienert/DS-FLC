{
 "cells": [
  {
   "cell_type": "markdown",
   "id": "685d0967",
   "metadata": {},
   "source": [
    "This is a new file with some git experiments on a lab computer.\n",
    "\n",
    "See website: \n",
    "\n",
    "https://docs.github.com/en/repositories/creating-and-managing-repositories/cloning-a-repository\n",
    "\n",
    "Launch gitbash on lab computer\n",
    "\n",
    "navigate to folder (but don't open it)\n",
    "\n",
    "right click: gitbash here\n",
    "\n",
    "type clone command in above website:\n",
    "\n",
    "git clone <https of git repo>\n",
    "    "
   ]
  },
  {
   "cell_type": "markdown",
   "id": "894f79d1",
   "metadata": {},
   "source": [
    "https://www.datacamp.com/tutorial/git-push-pull"
   ]
  },
  {
   "cell_type": "markdown",
   "id": "0ae97b6f",
   "metadata": {},
   "source": [
    "git add .\n"
   ]
  }
 ],
 "metadata": {
  "kernelspec": {
   "display_name": "Python 3",
   "language": "python",
   "name": "python3"
  },
  "language_info": {
   "codemirror_mode": {
    "name": "ipython",
    "version": 3
   },
   "file_extension": ".py",
   "mimetype": "text/x-python",
   "name": "python",
   "nbconvert_exporter": "python",
   "pygments_lexer": "ipython3",
   "version": "3.8.8"
  }
 },
 "nbformat": 4,
 "nbformat_minor": 5
}
