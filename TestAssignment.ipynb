{
 "cells": [
  {
   "cell_type": "markdown",
   "id": "3a590bde-6fd6-4753-8cfb-e7575ca4c56c",
   "metadata": {},
   "source": [
    "This is a test assignment."
   ]
  },
  {
   "cell_type": "markdown",
   "id": "4990ffe6-610d-440b-9b91-4fb6155ea06b",
   "metadata": {},
   "source": [
    "#### Your turn:\n",
    "\n",
    "> Write python code to compute $2+3$:"
   ]
  },
  {
   "cell_type": "code",
   "execution_count": null,
   "id": "94ab254c-2437-4782-9a34-6ec95174ac69",
   "metadata": {},
   "outputs": [],
   "source": []
  }
 ],
 "metadata": {
  "kernelspec": {
   "display_name": "Python 3",
   "language": "python",
   "name": "python3"
  },
  "language_info": {
   "codemirror_mode": {
    "name": "ipython",
    "version": 3
   },
   "file_extension": ".py",
   "mimetype": "text/x-python",
   "name": "python",
   "nbconvert_exporter": "python",
   "pygments_lexer": "ipython3",
   "version": "3.8.8"
  }
 },
 "nbformat": 4,
 "nbformat_minor": 5
}
